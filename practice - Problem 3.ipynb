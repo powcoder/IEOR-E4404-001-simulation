{
    "metadata": {
        "kernelspec": {
            "name": "python3",
            "display_name": "Python 3 (ipykernel)",
            "language": "python"
        }
    },
    "nbformat": 4,
    "nbformat_minor": 5,
    "cells": [
        {
            "cell_type": "code",
            "execution_count": 5,
            "metadata": {},
            "outputs": [],
            "source": [
                "import numpy as np\n",
                "from scipy.stats import expon, uniform\n",
                "\n",
                "## record your uni here\n",
                "\n",
                "uni = ''"
            ]
        },
        {
            "attachments": {},
            "cell_type": "markdown",
            "metadata": {},
            "source": [
                "## Problem 3 (25 points)\n",
                "\n",
                "Suppose we want to sample from the distribution with the cdf:\n",
                "\n",
                "$$F(x) = 1 - \\exp(-\\sqrt{x})$$\n",
                "\n",
                "Write a function inverse_transform() that samples from this distribution, and calculate the expected value of this distribution using $10,000$ samples."
            ]
        },
        {
            "cell_type": "code",
            "execution_count": 4,
            "metadata": {},
            "outputs": [
                {
                    "name": "stdout",
                    "output_type": "stream",
                    "text": "1.904873792779115\n"
                }
            ],
            "source": [
                "np.random.seed(42)\n",
                "n = 10_000\n",
                "\n",
                "## 1 - \\exp(-sqrt(x)) = u\n",
                "## -sqrt(x) = log(1 - u)\n",
                "## sqrt(x) = -log(1-u)\n",
                "## x = log(1-u)**2\n",
                "\n",
                "\n",
                "def inverse_transform():\n",
                "    U = uniform.rvs()\n",
                "    return np.log(1-U)**2\n",
                "\n",
                "X = [inverse_transform() for i in range(0, n)]\n",
                "print(np.mean(X))"
            ]
        }
    ]
}
