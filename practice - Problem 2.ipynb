{
    "metadata": {
        "kernelspec": {
            "name": "python3",
            "display_name": "Python 3 (ipykernel)",
            "language": "python"
        }
    },
    "nbformat": 4,
    "nbformat_minor": 5,
    "cells": [
        {
            "cell_type": "code",
            "execution_count": 2,
            "metadata": {},
            "outputs": [],
            "source": [
                "import numpy as np\n",
                "from scipy.stats import poisson, uniform\n",
                "\n",
                "## record your uni here\n",
                "\n",
                "uni = ''"
            ]
        },
        {
            "attachments": {},
            "cell_type": "markdown",
            "metadata": {},
            "source": [
                "## Problem Statement\n",
                "\n",
                "Suppose the number of accidents on a highway on a given day follows a Poisson with distribution with parameter $\\lambda$, depending on weather conditions.\n",
                "\n",
                "- 85\\% of days have good conditions\n",
                "- 10\\% of days have rain\n",
                "- 5\\% of days have snow\n",
                "\n",
                "\n",
                "If a day has good conditions, the number of accidents is expected to be 0.8. If a day has rain, the number of accident is expected to be 2, and if it is snowing, we expect to have 4 accidents.\n",
                "\n",
                ""
            ]
        },
        {
            "attachments": {},
            "cell_type": "markdown",
            "metadata": {},
            "source": [
                "## Part I (25 points)\n",
                "\n",
                "Write a function accidents(n) that generates a sample of size from the distribution of daily accidents.\n",
                "\n",
                "Using $10,000$ simulations, calculate the probability that we have (strictly) greater than $4$ accidents in a day, and a $95\\%$ confidence for this probability.\n",
                "\n",
                "For the confidence interval, feel free to use the normal critical value $z_{.025}$ instead of $t_{.025, 9,999}$"
            ]
        },
        {
            "cell_type": "code",
            "execution_count": 4,
            "metadata": {},
            "outputs": [
                {
                    "name": "stdout",
                    "output_type": "stream",
                    "text": "0.0265 0.02335191111307193 0.02964808888692807\n"
                }
            ],
            "source": [
                "np.random.seed(42)\n",
                "n = 10_000\n",
                "\n",
                "def accidents(n):\n",
                "    U = uniform.rvs(size=n)\n",
                "    X = np.zeros(n)\n",
                "    for i in range(n):\n",
                "        if U[i] \u003c= 0.85:\n",
                "            lam = 0.8\n",
                "        elif U[i] \u003c= 0.95:\n",
                "            lam = 2\n",
                "        else:\n",
                "            lam = 4\n",
                "        X[i] = poisson.rvs(lam)\n",
                "    return X\n",
                "\n",
                "X = accidents(n)\n",
                "\n",
                "# probability x \u003e 4\n",
                "Y = X \u003e 4\n",
                "mu_p = np.mean(Y)\n",
                "sig = np.std(Y)\n",
                "ci_low = mu_p - 1.96 * sig / np.sqrt(n)\n",
                "ci_up = mu_p + 1.96 * sig / np.sqrt(n)\n",
                "\n",
                "print(mu_p, ci_low, ci_up)"
            ]
        },
        {
            "attachments": {},
            "cell_type": "markdown",
            "metadata": {},
            "source": [
                "## Part II (10 points)\n",
                "\n",
                "If there are 3 accidents in a day, what is the probability it was snowing?\n",
                "\n",
                "Hint: modify the function accidents to also return the type of day it was."
            ]
        },
        {
            "cell_type": "code",
            "execution_count": 5,
            "metadata": {},
            "outputs": [
                {
                    "name": "stdout",
                    "output_type": "stream",
                    "text": "0.1348122866894198\n"
                }
            ],
            "source": [
                "np.random.seed(42)\n",
                "\n",
                "def accidents(n):\n",
                "    U = uniform.rvs(size=n)\n",
                "    X = np.zeros(n)\n",
                "    lam = np.zeros(n)\n",
                "    for i in range(n):\n",
                "        if U[i] \u003c= 0.85:\n",
                "            lam[i] = 0.8\n",
                "        elif U[i] \u003c= 0.95:\n",
                "            lam[i] = 2\n",
                "        else:\n",
                "            lam[i]= 4\n",
                "        X[i] = poisson.rvs(lam[i])\n",
                "    return X, lam\n",
                "\n",
                "X, lam = accidents(n)\n",
                "loc = X == 3\n",
                "p_3 = np.mean(lam[loc] == 4)\n",
                "print(p_3)"
            ]
        },
        {
            "cell_type": "code",
            "execution_count": 0,
            "metadata": {},
            "outputs": [],
            "source": [
                ""
            ]
        }
    ]
}
