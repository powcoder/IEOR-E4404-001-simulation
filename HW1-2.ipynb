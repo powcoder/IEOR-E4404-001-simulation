{
    "metadata": {
        "kernelspec": {
            "name": "python3",
            "display_name": "Python 3 (ipykernel)",
            "language": "python"
        }
    },
    "nbformat": 4,
    "nbformat_minor": 2,
    "cells": [
        {
            "cell_type": "code",
            "execution_count": 1,
            "metadata": {},
            "outputs": [],
            "source": [
                "import matplotlib.pyplot as plt\n",
                "import numpy as np\n",
                "from scipy.stats import uniform"
            ]
        },
        {
            "cell_type": "code",
            "execution_count": 2,
            "metadata": {},
            "outputs": [],
            "source": [
                "## fill in your uni here\n",
                "uni = \"jn2810\""
            ]
        },
        {
            "attachments": {},
            "cell_type": "markdown",
            "metadata": {},
            "source": [
                "## Q1 (20 points) \n",
                "A truncated geometric distribution with parameters $n$ (a positive integer), and $p\\in(0,1)$ has the distribution of a geometric random variable conditional on it being less than or equal to n.\n",
                "\n",
                "Implement a function geo_truncated(p, n, m) that uses the inverse transform to generate a random sample of size m from this distribution. Do not use a search. Only use the libraries/functions loaded at the top of the notebook.\n",
                "\n",
                "Generate 1000 samples p=0.1, n = 8, using the 2000 as the seed, calculate the mean and variance of the sample, and plot the histogram of this distribution.\n",
                "\n",
                "Recall that a $geo(p)$ distribution has the pmf $f(x) = p(1-p)^{x-1}$ for $x=1,2, ,...$$ and cdf $F(x) = 1 - (1-p)^x$ for $x=1,2,...$$"
            ]
        },
        {
            "cell_type": "code",
            "execution_count": 3,
            "metadata": {},
            "outputs": [],
            "source": [
                "np.random.seed(2000)\n",
                "def geo_truncated(p, n, m):\n",
                "    U = uniform.rvs(size = m)\n",
                "    geo = np.floor(np.log(1 - U*(1 - (1 - p) ** n)) / np.log(1 - p)) + 1\n",
                "    return geo"
            ]
        },
        {
            "cell_type": "code",
            "execution_count": 4,
            "metadata": {},
            "outputs": [
                {
                    "name": "stdout",
                    "output_type": "stream",
                    "text": "4.123\n4.875935999999999\n"
                }
            ],
            "source": [
                "print(np.mean(geo_truncated(0.1, 8, 1000)))\n",
                "print(np.var(geo_truncated(0.1, 8, 1000)))"
            ]
        },
        {
            "cell_type": "code",
            "execution_count": 5,
            "metadata": {},
            "outputs": [
                {
                    "data": {
                        "text/plain": "(array([177., 155., 145., 132., 119.,  99.,  99.,  74.]),\n array([1.   , 1.875, 2.75 , 3.625, 4.5  , 5.375, 6.25 , 7.125, 8.   ]),\n \u003cBarContainer object of 8 artists\u003e)"
                    },
                    "execution_count": 5,
                    "metadata": {},
                    "output_type": "execute_result"
                },
                {
                    "data": {
                        "image/png": "[encoded data removed]",
                        "text/plain": "\u003cFigure size 432x288 with 1 Axes\u003e"
                    },
                    "metadata": {
                        "needs_background": "light"
                    },
                    "output_type": "display_data"
                }
            ],
            "source": [
                "plt.hist(geo_truncated(0.1, 8, 1000), bins = 8)"
            ]
        },
        {
            "attachments": {},
            "cell_type": "markdown",
            "metadata": {},
            "source": [
                "## Q2 (10 points)\n",
                "\n",
                "Now, implement sampling from the truncated geometric distribution using rejection sampling with the proposal distribution being just a regular geom(p). What does c end up being? \n",
                "\n",
                "In this part, I will allow you to use the scipy geom.rvs() method to sample from the proposal distribution."
            ]
        },
        {
            "cell_type": "code",
            "execution_count": 6,
            "metadata": {},
            "outputs": [],
            "source": [
                "from scipy.stats import geom"
            ]
        }
    ]
}
