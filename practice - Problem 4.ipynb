{
    "metadata": {
        "kernelspec": {
            "name": "python3",
            "display_name": "Python 3 (ipykernel)",
            "language": "python"
        }
    },
    "nbformat": 4,
    "nbformat_minor": 5,
    "cells": [
        {
            "cell_type": "code",
            "execution_count": 1,
            "metadata": {},
            "outputs": [],
            "source": [
                "import numpy as np\n",
                "from scipy.stats import uniform\n",
                "\n",
                "## record your uni here\n",
                "\n",
                "uni = ''"
            ]
        },
        {
            "attachments": {},
            "cell_type": "markdown",
            "metadata": {},
            "source": [
                "## Problem 4\n",
                "\n",
                "## Part I (10 points)\n",
                "\n",
                "Let $f(x) = 0.5\\sin(x) 1_{\\{0\u003c x \u003c \\pi\\}}$\n",
                "\n",
                "Implement the rejection sampling algorithm for this distribution."
            ]
        },
        {
            "cell_type": "code",
            "execution_count": 3,
            "metadata": {},
            "outputs": [],
            "source": [
                "# we use Unif(0,pi) as our proposal distribution\n",
                "# c = max f(x) / g(x) = max 0.5 * sin(x) / (1 / pi) = 0.5 * pi\n",
                "# f(x) / (c g(x)) = sin(x)\n",
                "\n",
                "def rej_sampling():\n",
                "    U1 = np.pi * uniform.rvs()\n",
                "    while True:\n",
                "        U2 = uniform.rvs()\n",
                "        if U2 \u003c np.sin(U1):\n",
                "            return U1\n",
                "        U1 = np.pi * uniform.rvs()"
            ]
        },
        {
            "attachments": {},
            "cell_type": "markdown",
            "metadata": {},
            "source": [
                "## Part II (10 points)\n",
                "\n",
                "Using $n=10,000$ simulations, calculate a 95% confidence interval for $E[X^3]$ where $X$ has the density listed above."
            ]
        },
        {
            "cell_type": "code",
            "execution_count": 5,
            "metadata": {},
            "outputs": [
                {
                    "name": "stdout",
                    "output_type": "stream",
                    "text": "6.1383775342036895 5.895604202832638\n"
                }
            ],
            "source": [
                "n = 10_000\n",
                "X3 = [rej_sampling()**3 for i in range(n)]\n",
                "EX3 = np.mean(X3)\n",
                "sig = np.std(X3)\n",
                "\n",
                "lower = EX3 - 1.96 * sig / np.sqrt(n)\n",
                "upper = EX3 + 1.96 * sig / np.sqrt(n)\n",
                "print(lower, upper)"
            ]
        },
        {
            "cell_type": "code",
            "execution_count": 0,
            "metadata": {},
            "outputs": [],
            "source": [
                ""
            ]
        }
    ]
}
