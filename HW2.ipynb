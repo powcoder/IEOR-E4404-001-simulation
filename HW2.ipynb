{
    "metadata": {
        "kernelspec": {
            "name": "python3",
            "display_name": "Python 3 (ipykernel)",
            "language": "python"
        }
    },
    "nbformat": 4,
    "nbformat_minor": 2,
    "cells": [
        {
            "cell_type": "code",
            "execution_count": 106,
            "metadata": {},
            "outputs": [],
            "source": [
                "import numpy as np\n",
                "from scipy.stats import poisson, expon, uniform"
            ]
        },
        {
            "cell_type": "code",
            "execution_count": 107,
            "metadata": {},
            "outputs": [],
            "source": [
                "## fill in your uni here\n",
                "\n",
                "uni = 'jn2810'"
            ]
        },
        {
            "attachments": {},
            "cell_type": "markdown",
            "metadata": {},
            "source": [
                "## Background\n",
                "\n",
                "Let's define the following terms for an insurance policy:\n",
                "\n",
                "* A policy holder is the person who is purchasing insurance; the insurer is the party selling insurance\n",
                "* The premium (P) is the amount that the policy holder pays every year to have insurance\n",
                "* The deductible (D) is the amount of costs the policy holder is responsible for paying every year before insurance pays anything\n",
                "* The annual maximum (A) is the maximum amount of money the policy holder will have to pay in a given year, anything above that is fully covered by the insurance company\n",
                "* The co-insurance (C) is the percentage of costs the policy holder must pay on any costs above the deductible up until their annual maximum. Equivalently, the insurance company will be pay 0% of costs up to D, (1-C)% of the costs between D and A, and 100% of costs after D. \n",
                "\n",
                "For example, if I have auto collision insurance with a $1000$$ USD deductible, $25\\%$$ coinsurance, and a $2000$$ USD annual maximum, and I get into accidents in the course of the year that cost $500$ USD to repair, I will have to pay the full $500$ USD since I have not met my deductible. \n",
                "\n",
                "If the accidents cost $4000$ USD to repair, I will have to pay $1750$ USD - 1000 from the deductible and $25\\%$ of the $3000$ USD past the deductible - meaning the insurance company pays out 2250. \n",
                "\n",
                "If the accidents cost $8000$ USD to repair, I will have to pay $2000$, ($1000$ for the deductible, $1000$ from the next $4000$) and the insurance company will pay 6000. "
            ]
        },
        {
            "attachments": {},
            "cell_type": "markdown",
            "metadata": {},
            "source": [
                "## Q1 (10 points)\n",
                "\n",
                "The distribution of damages from an auto collision can be modelled with a Pareto Distribution with shape parameter $\\alpha$, and scale parameter $\\sigma$ which has the cdf:\n",
                "\n",
                "$$F(x) = \\begin{cases} 1 - (x/\\sigma) ^{-\\alpha} \u0026 x\\geq1 \\\\\n",
                "0 \u0026 x \u003c 1\n",
                "\\end{cases} $$\n",
                "\n",
                "Write a function sample_pareto(alpha, sigma, n) that generates n samples from a Pareto distribution using the inverse transform."
            ]
        },
        {
            "cell_type": "code",
            "execution_count": 108,
            "metadata": {},
            "outputs": [],
            "source": [
                "def sample_pareto(alpha, sigma, n):\n",
                "    u = uniform.rvs(size = n)\n",
                "    x = sigma / ((1 - u) ** (1 / alpha))\n",
                "    return x\n",
                ""
            ]
        },
        {
            "attachments": {},
            "cell_type": "markdown",
            "metadata": {},
            "source": [
                "## Q2 (10 points)\n",
                "\n",
                "The number of accidents that some drivers have in a given year can be described with an overdispersed Poisson Distribution. In this case, we generate $\\lambda$ from an exponential distribution with expectation $\\beta$, and then generate $X|\\lambda \\sim Poisson(\\lambda)$ - i.e. every single data point has a different poisson parameter sampled from an exponential. We will say $X\\sim ODP(\\beta)$ to mean $X$ has such a distribution. \n",
                "\n",
                "Write a function sample_od_poisson(beta, n) that generates n samples from the overdispersed Poisson distribution. (Hint: use expon.rvs() with the appropriate scale parameter and size=n to generate a set of lambdas, then pass them poisson.rvs())"
            ]
        },
        {
            "cell_type": "code",
            "execution_count": 109,
            "metadata": {},
            "outputs": [],
            "source": [
                "def sample_od_poisson(beta, n):\n",
                "    lams = expon.rvs(scale = beta, size = n)\n",
                "    X = poisson.rvs(mu = lams)\n",
                "    return X\n",
                ""
            ]
        },
        {
            "attachments": {},
            "cell_type": "markdown",
            "metadata": {},
            "source": [
                "## Q3 (20 points)\n",
                "Let $N$ be the number of accidents a driver has in a year; let $D$ be the amount of damages from those collisions.\n",
                "\n",
                "There are three kinds of drivers:\n",
                "\n",
                "* Risky drivers are 10% of the population. For risky drivers, $N$ follows a overdispersed Poisson with parameter $\\beta=2$, and the damages from each accident follow a Pareto distribution with parameters $\\alpha=2.5$, $\\sigma=2000$.\n",
                "\n",
                "* Normal drivers are 70% of the population. For normal drivers, $N$ follows a regular Poisson with parameter $\\lambda=0.25$, and the damages from each accident follow a Pareto distribution with parameters $\\alpha=4$, $\\sigma=1000$.\n",
                "\n",
                "* Cautious drivers are 20% of the population. For normal drivers, $N$ follows a regular Poisson with parameter $\\lambda=0.1$, and the damages from each accident follow a Pareto distribution with parameters $\\alpha=4$, $\\sigma=1000$.\n",
                "\n",
                "Write a function sample_driver(n) the number of accidents that a driver has in each of two years (N1 and N2), and the corresponding total damages for driver in each of those two years (D1) and (D2).\n",
                "\n",
                "Hint: use a uniform to figure out what type of driver each person is, generate two poissons or overdispersed poissons depending on what kind of driver they are, generate two sets of the appropriate number/type of paretos for each person, and take the sum of each. repeat for each person\n",
                ""
            ]
        },
        {
            "cell_type": "code",
            "execution_count": 110,
            "metadata": {},
            "outputs": [],
            "source": [
                "def sample_driver(n):\n",
                "    N1, N2, D1, D2 = [], [], [], []\n",
                "    W = uniform.rvs(size = n)\n",
                "    for i in range(n):\n",
                "        if W[i] \u003c 0.1:\n",
                "            a = sample_od_poisson(2, 1)\n",
                "            b = sample_od_poisson(2, 1)\n",
                "            c = sum(sample_pareto(2.5, 2000, a))\n",
                "            d = sum(sample_pareto(2.5, 2000, a))\n",
                "\n",
                "\n",
                "\n",
                "        elif W[i] \u003c 0.8:\n",
                "            a = poisson.rvs(0.25)\n",
                "            b = poisson.rvs(0.25)\n",
                "            c = sum(sample_pareto(4, 1000, a))\n",
                "            d = sum(sample_pareto(4, 1000, a))\n",
                "        else:\n",
                "            a = poisson.rvs(0.1)\n",
                "            b = poisson.rvs(0.1)\n",
                "            c = sum(sample_pareto(4, 1000, a))\n",
                "            d = sum(sample_pareto(4, 1000, a))\n",
                "        \n",
                "        N1.append(a)\n",
                "        N2.append(b)\n",
                "        D1.append(c)\n",
                "        D2.append(d)\n",
                "\n",
                "    \n",
                "    return N1, N2, D1, D2\n",
                "\n",
                ""
            ]
        },
        {
            "attachments": {},
            "cell_type": "markdown",
            "metadata": {},
            "source": [
                "## Q4 (20 points)\n",
                "\n",
                "Let's suppose that every policy has a deductible of $1000$ USD, $25\\%$ co-insurance, and a $2000$ USD annual maximum.\n",
                "\n",
                "Use simulation ($n=10,000$ samples) to estimate the premium that the insurance company should charge to break-even in the first year.\n",
                "\n",
                "Hint: write a function that calculates the amount the insurance company needs to cover for the amount of damages a driver has incured. Calculate this for each driver in D1 and take the mean."
            ]
        },
        {
            "cell_type": "code",
            "execution_count": 111,
            "metadata": {},
            "outputs": [
                {
                    "data": {
                        "text/plain": "591.8383592373127"
                    },
                    "execution_count": 111,
                    "metadata": {},
                    "output_type": "execute_result"
                }
            ],
            "source": [
                "n = 10000\n",
                "\n",
                "N1, N2, D1, D2 = sample_driver(n)\n",
                "\n",
                "def payout(D):\n",
                "    payout = []\n",
                "    for i in range(len(D)):\n",
                "        if D[i] \u003c= 1000:\n",
                "            x = 0\n",
                "        elif D[i] \u003c= 5000:\n",
                "            x = 0.75 * (D[i] - 1000)\n",
                "        else:\n",
                "            x = D[i] - 2000\n",
                "        payout.append(x)\n",
                "    return np.mean(payout)\n",
                "\n",
                "payout(D1)\n",
                ""
            ]
        },
        {
            "attachments": {},
            "cell_type": "markdown",
            "metadata": {},
            "source": [
                "## Q5 (20 points)\n",
                "\n",
                "Calculate the expected payout from the insurance company (using the samples you have generated) in the second year for drivers who have $N=0, N=1, N=2, N=3$ and $N\\geq 4$ accidents (i.e group ) in year one.\n",
                "\n",
                "Hint: re-use the samples you generated in the last section and calculate the mean of D2 for all the drivers who have N1=0, etc."
            ]
        },
        {
            "cell_type": "code",
            "execution_count": 112,
            "metadata": {},
            "outputs": [
                {
                    "data": {
                        "text/plain": "(0.0,\n 437.7495113568434,\n 2538.427731727802,\n 7232.024270312667,\n 18430.529772989925)"
                    },
                    "execution_count": 112,
                    "metadata": {},
                    "output_type": "execute_result"
                }
            ],
            "source": [
                "e, f, g, h, j = [], [], [], [], []\n",
                "for i in range(n):\n",
                "    if N1[i] == 0:\n",
                "        e.append(D2[i])\n",
                "    elif N1[i] == 1:\n",
                "        f.append(D2[i])\n",
                "    elif N1[i] == 2:\n",
                "        g.append(D2[i])\n",
                "    elif N1[i] == 3:\n",
                "        h.append(D2[i])\n",
                "    elif N1[i] \u003e= 4:\n",
                "        j.append(D2[i])\n",
                "\n",
                "payout(e), payout(f), payout(g), payout(h), payout(j)"
            ]
        },
        {
            "attachments": {},
            "cell_type": "markdown",
            "metadata": {},
            "source": [
                "## Q6 (20 points)\n",
                "\n",
                "The insurance company will, in the second year, increase the premiums of anyone whose expected costs (to the insurance company) are greater than the break-even premium from part 4 to the level of their expected costs conditional on the number of accidents they had in year one, while everyone else will stay the same. How much profit do we expect the insurance company to make per customer in year two?\n",
                "\n",
                "Hint: The new premium for each driver will be the greater of the value you calculated for them in the last section and the breakeven from part 4. Take the difference between the mean of this and the breakeven from part 4."
            ]
        },
        {
            "cell_type": "code",
            "execution_count": 113,
            "metadata": {},
            "outputs": [],
            "source": [
                "ec = [payout(e), payout(f), payout(g), payout(h), payout(j)]\n",
                ""
            ]
        },
        {
            "cell_type": "code",
            "execution_count": 114,
            "metadata": {},
            "outputs": [
                {
                    "ename": "SyntaxError",
                    "evalue": "incomplete input (3108110377.py, line 3)",
                    "output_type": "error",
                    "traceback": [
                        "\u001b[0;36m  Cell \u001b[0;32mIn [1], line 3\u001b[0;36m\u001b[0m\n\u001b[0;31m    for i in N1:\u001b[0m\n\u001b[0m                ^\u001b[0m\n\u001b[0;31mSyntaxError\u001b[0m\u001b[0;31m:\u001b[0m incomplete input\n"
                    ]
                }
            ],
            "source": [
                "def new_Pre():\n",
                "    a = []\n",
                "    for i in N1:\n",
                "\n",
                "    return np.mean(a)\n",
                "\n",
                "print(new_Pre() - payout(D1))"
            ]
        }
    ]
}
