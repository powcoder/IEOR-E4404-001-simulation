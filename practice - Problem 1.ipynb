{
    "metadata": {
        "kernelspec": {
            "name": "python3",
            "display_name": "Python 3 (ipykernel)",
            "language": "python"
        }
    },
    "nbformat": 4,
    "nbformat_minor": 5,
    "cells": [
        {
            "cell_type": "code",
            "execution_count": 2,
            "metadata": {},
            "outputs": [],
            "source": [
                "import numpy as np\n",
                "from scipy.stats import uniform\n",
                "\n",
                "## record your uni here\n",
                "\n",
                "uni = ''"
            ]
        },
        {
            "attachments": {},
            "cell_type": "markdown",
            "metadata": {},
            "source": [
                "## Problem 1 (25 points)\n",
                "\n",
                "Let $$\\theta = \\int_0^1 \\int_0^y \\exp(-x^2) x^4 dx dy$$\n",
                "\n",
                "\n",
                "Use the monte carlo method to estimate $\\theta$."
            ]
        },
        {
            "cell_type": "code",
            "execution_count": 3,
            "metadata": {},
            "outputs": [
                {
                    "name": "stdout",
                    "output_type": "stream",
                    "text": "0.008551462974661273\n"
                }
            ],
            "source": [
                "np.random.seed(42)\n",
                "n = 10_000\n",
                "\n",
                "U = uniform.rvs(size=(n,2))\n",
                "\n",
                "f = np.exp(-U[:,0]**2) * (U[:,0] ** 4)\n",
                "loc = U[:,0] \u003e U[:,1]\n",
                "f[loc] = 0\n",
                "\n",
                "theta = np.mean(f)\n",
                "print(theta)"
            ]
        },
        {
            "cell_type": "code",
            "execution_count": 0,
            "metadata": {},
            "outputs": [],
            "source": [
                ""
            ]
        }
    ]
}
