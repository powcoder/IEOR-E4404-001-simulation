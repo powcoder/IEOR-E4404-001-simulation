{
    "metadata": {
        "kernelspec": {
            "name": "python3",
            "display_name": "Python 3 (ipykernel)",
            "language": "python"
        }
    },
    "nbformat": 4,
    "nbformat_minor": 4,
    "cells": [
        {
            "cell_type": "code",
            "execution_count": 1,
            "metadata": {},
            "outputs": [],
            "source": [
                "import numpy as np\n",
                "from scipy.stats import uniform"
            ]
        },
        {
            "attachments": {},
            "cell_type": "markdown",
            "metadata": {},
            "source": [
                "## Setting:\n",
                "    \n",
                "Two continuous random variables $X$ and $Y$ have the following bi-variatate (unnormalized) probability density function which is defined over the unit-square:\n",
                "\n",
                "$$\n",
                "f_{X,Y}^{unnormalized}(x,y)=\\begin{cases} \n",
                "e^{(1-2x-3y+4xy)},\u0026 \\text{if }   0\\leq x\u003c1 ,   0\\leq y\u003c1\\\\\n",
                "0,\u0026 \\text{otherwise}\n",
                "\\end{cases}\n",
                "$$\n",
                ""
            ]
        },
        {
            "attachments": {},
            "cell_type": "markdown",
            "metadata": {},
            "source": [
                "## Q1. [10 Points]\n",
                "\n",
                "Normalizing constant is a constant multiplier that makes the pdf integrate out to 1.\n",
                "\n",
                "For example, for the standard normal distribution, the normalized pdf is \n",
                "$\\frac{1}{\\sqrt{2\\pi}}exp(-\\frac{x^2}{2})$. An unnormalized pdf can be \n",
                "$exp(-\\frac{x^2}{2})$. In this case, the corresponding normalizing constant is $\\frac{1}{\\sqrt{2\\pi}}$.\n",
                "\n",
                "\n",
                "For a bi-variate distribution, we need to ensure the normalized pdf follows:\n",
                "$\\int\\int f_{X,Y}^{normalized}(x,y) dx dy=1$\n",
                "\n",
                "* Use Monte-Carlo integration to estimate the normalizing constant given in the setting. Use seed=1000, assign the first 1,000,000 samples to $x$, and the next 1,000,000 random numbers to $y$. "
            ]
        },
        {
            "cell_type": "code",
            "execution_count": 2,
            "metadata": {},
            "outputs": [],
            "source": [
                "np.random.seed(1_000)\n",
                "\n",
                "U = uniform.rvs(size=1_000_000)\n",
                "x = U[:,0]\n",
                "y = U[:,1]\n",
                "\n",
                "def f_unnormalized(x, y):\n",
                "    return np.exp(1-2*x-3*y+4*x*y)\n",
                "\n",
                "normalizing_constant = 1/np.mean(f_unnormalized(x, y))"
            ]
        },
        {
            "cell_type": "code",
            "execution_count": 3,
            "metadata": {},
            "outputs": [
                {
                    "data": {
                        "text/plain": [
                            "1.4945497606950764"
                        ]
                    },
                    "execution_count": 3,
                    "metadata": {},
                    "output_type": "execute_result"
                }
            ],
            "source": [
                "normalizing_constant"
            ]
        },
        {
            "cell_type": "code",
            "execution_count": 4,
            "metadata": {},
            "outputs": [],
            "source": [
                "def f(x, y):\n",
                "    # this is now the normalized pdf\n",
                "    return normalizing_constant * f_unnormalized(x, y)"
            ]
        },
        {
            "attachments": {},
            "cell_type": "markdown",
            "metadata": {},
            "source": [
                "## Q2.  [15 Points]\n",
                "\n",
                "Use Monte-Carlo simulation to approximate the probability of $0\u003cx\u003c0.5$ and $0\u003cy\u003cx+0.1$ with the following method:\n",
                "\n",
                "* Include an indicator (binary) function inside the integral to change the limit to between 0 and 1 for both dimensions.\n",
                "* Use seed=2000. Assign the first 1,000,000 random numbers to $x$. Assign the next 1,000,000 random numbers to $y$.\n",
                "\n",
                ""
            ]
        },
        {
            "cell_type": "code",
            "execution_count": 5,
            "metadata": {},
            "outputs": [
                {
                    "data": {
                        "text/plain": [
                            "0.2927291255716196"
                        ]
                    },
                    "execution_count": 5,
                    "metadata": {},
                    "output_type": "execute_result"
                }
            ],
            "source": [
                "np.random.seed(1_000)\n",
                "\n",
                "U = uniform.rvs(size=1_000_000)\n",
                "x = U[:,0]\n",
                "y = U[:,1]\n",
                "\n",
                "# integrate f(x,y) times an indicator function (0 \u003c x \u003c 0.5) and (0 \u003c y \u003c x + 0.1)\n",
                "integrand = f(x, y) * (0 \u003c x) * (x \u003c 0.5) * (0 \u003c y) * (y \u003c x + 0.1)\n",
                "\n",
                "np.mean(integrand)"
            ]
        },
        {
            "attachments": {},
            "cell_type": "markdown",
            "metadata": {},
            "source": [
                "## Q3.  [15 Points]\n",
                "     \n",
                "Use Monte-Carlo simulation to approximate the probability that $x^2 +y ^2 \u003c 1$, using the following method: \n",
                "\n",
                "* Include an indicator (binary) function inside the integral to change the limit to between 0 and 1 for both dimensions.\n",
                "* Use seed=2000. Assign the first 1,000,000 random numbers to $x$. Assign the next 1,000,000 random numbers to $y$."
            ]
        },
        {
            "cell_type": "code",
            "execution_count": 6,
            "metadata": {},
            "outputs": [
                {
                    "data": {
                        "text/plain": [
                            "0.8096388698403497"
                        ]
                    },
                    "execution_count": 6,
                    "metadata": {},
                    "output_type": "execute_result"
                }
            ],
            "source": [
                "np.random.seed(2_000)\n",
                "U = uniform.rvs(size=1_000_000)\n",
                "x = U[:,0]\n",
                "y = U[:,1]\n",
                "gxy = f(x, y)\n",
                "ind = np.zeros(n)\n",
                "ind[(x ** 2 + y **2) \u003c 1] = 1\n",
                "np.mean(gxy * ind)"
            ]
        },
        {
            "cell_type": "code",
            "execution_count": 0,
            "metadata": {},
            "outputs": [],
            "source": [
                ""
            ]
        }
    ]
}
